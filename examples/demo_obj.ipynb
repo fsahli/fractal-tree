{
 "cells": [
  {
   "cell_type": "markdown",
   "id": "4eef4a09",
   "metadata": {},
   "source": [
    "# Using object files\n",
    "\n",
    "In this demo we will generate Purkinje networks on a Sphere from an `.obj`-file. This mesh is from the original repository at https://github.com/fsahli/fractal-tree\n",
    "\n",
    "First we make the necessary imports. Note that we will import [`meshio`](https://github.com/nschloe/meshio) for loading the `.obj`. You can install `meshio` with `pip install meshio`.\n"
   ]
  },
  {
   "cell_type": "code",
   "execution_count": null,
   "id": "5e4df96a",
   "metadata": {},
   "outputs": [],
   "source": [
    "import logging\n",
    "import meshio\n",
    "import numpy as np\n",
    "from fractal_tree import generate_fractal_tree, FractalTreeParameters, Mesh"
   ]
  },
  {
   "cell_type": "markdown",
   "id": "95794057",
   "metadata": {},
   "source": [
    "We set the log level to `INFO`, which will makes sure that we don't pollute the console with output. To see more output, you can set the log level to `DEBUG`.\n"
   ]
  },
  {
   "cell_type": "code",
   "execution_count": null,
   "id": "d5427417",
   "metadata": {},
   "outputs": [],
   "source": [
    "logging.basicConfig(level=logging.INFO)"
   ]
  },
  {
   "cell_type": "markdown",
   "id": "fa3a3697",
   "metadata": {},
   "source": [
    "Next, we will load the mesh using `meshio`"
   ]
  },
  {
   "cell_type": "code",
   "execution_count": null,
   "id": "63fa1877",
   "metadata": {},
   "outputs": [],
   "source": [
    "fname = \"sphere.obj\"\n",
    "msh = meshio.read(fname)"
   ]
  },
  {
   "cell_type": "markdown",
   "id": "063d724a",
   "metadata": {},
   "source": [
    "This mesh is a surface mesh of triangles.\n",
    "We create a `Mesh` object by passing the points as the vertices and the cells as the connectivity array\n"
   ]
  },
  {
   "cell_type": "code",
   "execution_count": null,
   "id": "b4666e0f",
   "metadata": {},
   "outputs": [],
   "source": [
    "mesh = Mesh(verts=msh.points, connectivity=msh.cells[0].data)"
   ]
  },
  {
   "cell_type": "markdown",
   "id": "ed609f92",
   "metadata": {},
   "source": [
    "\n",
    "We can also specify some parameters for for the fractal tree. Here we specify an output filename, the number of generations to run."
   ]
  },
  {
   "cell_type": "code",
   "execution_count": null,
   "id": "1ee1246e",
   "metadata": {},
   "outputs": [],
   "source": [
    "param = FractalTreeParameters(\n",
    "    filename=\"sphere-line\",\n",
    "    N_it=10,\n",
    ")"
   ]
  },
  {
   "cell_type": "markdown",
   "id": "c0cc2446",
   "metadata": {},
   "source": [
    "Finally we run the fractal tree algorithm. Here are also set a seed for the random number generator in order to make the results reproducible."
   ]
  },
  {
   "cell_type": "code",
   "execution_count": null,
   "id": "44c56aa5",
   "metadata": {
    "lines_to_next_cell": 2
   },
   "outputs": [],
   "source": [
    "np.random.seed(1)\n",
    "branches, nodes = generate_fractal_tree(mesh, param)"
   ]
  },
  {
   "attachments": {},
   "cell_type": "markdown",
   "id": "aced10b0",
   "metadata": {},
   "source": [
    "```{figure} ../docs/figures/sphere_obj.png\n",
    "---\n",
    "name: sphere_obj\n",
    "---\n",
    "The sphere coming from the object file with the generated Purkinje networks visualized in Paraview\n",
    "```"
   ]
  }
 ],
 "metadata": {
  "jupytext": {
   "cell_metadata_filter": "-all",
   "main_language": "python",
   "notebook_metadata_filter": "-all"
  },
  "kernelspec": {
   "display_name": "venv",
   "language": "python",
   "name": "python3"
  },
  "language_info": {
   "name": "python",
   "version": "3.10.6"
  }
 },
 "nbformat": 4,
 "nbformat_minor": 5
}
