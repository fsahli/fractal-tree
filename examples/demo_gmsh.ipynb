{
 "cells": [
  {
   "attachments": {},
   "cell_type": "markdown",
   "id": "e94646d5",
   "metadata": {},
   "source": [
    "# Using `Gmsh`\n",
    "\n",
    "In this demo we will show how to generate Purkinje networks on an idealized bi-ventricular geometry generated with gmsh. In order to create this geometry with will use another library called [`cardiac-geometries`](https://computationalphysiology.github.io/cardiac_geometries/) which can be installed with pip, i.e\n",
    "```\n",
    "pip install cardiac-geometries\n",
    "```\n",
    "Note also that to create this geometry you need `gmsh` installed with `OpenCASACADE`. Normally this will come with gmsh if you install it from [pypi](https://pypi.org/project/gmsh/#files) but if you happen to be on a Mac M1, then you need to build this from source. In this case it might be easier to use the [pre-built docker](https://github.com/scientificcomputing/packages/pkgs/container/fenics-gmsh) container that we have made.\n",
    "\n",
    "First we will import the necessary libraries"
   ]
  },
  {
   "cell_type": "code",
   "execution_count": null,
   "id": "618db8f1",
   "metadata": {},
   "outputs": [],
   "source": [
    "import numpy as np\n",
    "import logging\n",
    "from pathlib import Path\n",
    "import meshio  # pip install meshio\n",
    "from fractal_tree import generate_fractal_tree, FractalTreeParameters, Mesh"
   ]
  },
  {
   "cell_type": "markdown",
   "id": "46eddd5a",
   "metadata": {},
   "source": [
    "And set the logging level to INFO"
   ]
  },
  {
   "cell_type": "code",
   "execution_count": null,
   "id": "7caa6d52",
   "metadata": {},
   "outputs": [],
   "source": [
    "logging.basicConfig(level=logging.INFO)"
   ]
  },
  {
   "cell_type": "markdown",
   "id": "3ea5a022",
   "metadata": {},
   "source": [
    "We will also set a seed for the random number generator so that the results we generate are reproducible."
   ]
  },
  {
   "cell_type": "code",
   "execution_count": null,
   "id": "818a2140",
   "metadata": {},
   "outputs": [],
   "source": [
    "np.random.seed(1234)"
   ]
  },
  {
   "cell_type": "markdown",
   "id": "a3a703ac",
   "metadata": {},
   "source": [
    "The mesh that we create from `gmsh` is not directly possible to visualize in Paraview, so in order to do that we create a simple helper function for converting the mesh to `XDMF` format which is possible to visualize in Paraview."
   ]
  },
  {
   "cell_type": "code",
   "execution_count": null,
   "id": "80b5861b",
   "metadata": {},
   "outputs": [],
   "source": [
    "def create_mesh(mesh, cell_type):\n",
    "    cells = mesh.get_cells_type(cell_type)\n",
    "    cell_data = mesh.get_cell_data(\"gmsh:geometrical\", cell_type)\n",
    "    out_mesh = meshio.Mesh(\n",
    "        points=mesh.points,\n",
    "        cells={cell_type: cells},\n",
    "        cell_data={\"name_to_read\": [cell_data]},\n",
    "    )\n",
    "\n",
    "    return out_mesh"
   ]
  },
  {
   "cell_type": "markdown",
   "id": "d7d1bee4",
   "metadata": {},
   "source": [
    "We will now create the mesh. If the mesh already exist we skip this step. Here we need to import `cardiac-geometries` and call the `biv_ellipsoid` function from the `gmsh` sub-package. We alse set the characteristic length to 0.1 which will generate a finer mesh that what is the default."
   ]
  },
  {
   "cell_type": "code",
   "execution_count": null,
   "id": "a10ec193",
   "metadata": {},
   "outputs": [],
   "source": [
    "path = Path(\"biv_ellipsoid.msh\")\n",
    "if not path.is_file():\n",
    "    # Generate mesh with cardiac geometries\n",
    "    import cardiac_geometries\n",
    "\n",
    "    cardiac_geometries.gmsh.biv_ellipsoid(path, char_length=0.1)"
   ]
  },
  {
   "cell_type": "markdown",
   "id": "65e0750b",
   "metadata": {},
   "source": [
    "The generated mesh will be saved to the given path. We can now load this mesh using `meshio`."
   ]
  },
  {
   "cell_type": "code",
   "execution_count": null,
   "id": "16da784f",
   "metadata": {},
   "outputs": [],
   "source": [
    "msh = meshio.read(path)"
   ]
  },
  {
   "cell_type": "markdown",
   "id": "595bc3b6",
   "metadata": {},
   "source": [
    "For pure visualization purposes we will also save the mesh in `.xdmf` format so that we can visualize the geometry in together with the Purkinje networks in the end."
   ]
  },
  {
   "cell_type": "code",
   "execution_count": null,
   "id": "68503063",
   "metadata": {},
   "outputs": [],
   "source": [
    "tetra_mesh = create_mesh(msh, \"tetra\")\n",
    "meshio.write(path.with_suffix(\".xdmf\"), tetra_mesh)"
   ]
  },
  {
   "cell_type": "markdown",
   "id": "1c37bb2c",
   "metadata": {},
   "source": [
    "For this example we will generate the Purkinje networks on the left ventricular endocardium. This mesh comes with some physical surfaces with different tags. These tags are stored in the `field_ data` attribute"
   ]
  },
  {
   "cell_type": "code",
   "execution_count": null,
   "id": "4e249845",
   "metadata": {},
   "outputs": [],
   "source": [
    "print(msh.field_data)"
   ]
  },
  {
   "cell_type": "markdown",
   "id": "4c5d1178",
   "metadata": {},
   "source": [
    "We will use the tag for the `ENDO_LV`"
   ]
  },
  {
   "cell_type": "code",
   "execution_count": null,
   "id": "87021545",
   "metadata": {},
   "outputs": [],
   "source": [
    "tag = msh.field_data[\"ENDO_LV\"][0]"
   ]
  },
  {
   "cell_type": "markdown",
   "id": "f52c0e14",
   "metadata": {},
   "source": [
    "We also need to extract the relevant cells with this tag"
   ]
  },
  {
   "cell_type": "code",
   "execution_count": null,
   "id": "5607fe11",
   "metadata": {},
   "outputs": [],
   "source": [
    "inds = [i for i, x in enumerate(msh.cell_data[\"gmsh:physical\"]) if x[0] == tag]\n",
    "connectivity = np.vstack([msh.cells[i].data for i in inds])"
   ]
  },
  {
   "cell_type": "markdown",
   "id": "b1bec5fb",
   "metadata": {},
   "source": [
    "The next task is to define the starting point for the network. We would like this to be a point close to the base of the left ventricular endocardial septum. You could use Paraview to find approximately what the coordinate of this point should be. In this case a suitable choice for the initial node would the $(0, 1, 0)$."
   ]
  },
  {
   "cell_type": "code",
   "execution_count": null,
   "id": "5a0cd2ed",
   "metadata": {},
   "outputs": [],
   "source": [
    "init_node = [0, 1, 0]"
   ]
  },
  {
   "cell_type": "markdown",
   "id": "d0e9ba9a",
   "metadata": {},
   "source": [
    "Now that we have the approximate coordinate, we need to find the closest node in the mesh. We can do this by selecting the point with the shortest distance to this node."
   ]
  },
  {
   "cell_type": "code",
   "execution_count": null,
   "id": "1af4628d",
   "metadata": {},
   "outputs": [],
   "source": [
    "verts = msh.points\n",
    "index = np.linalg.norm(np.subtract(verts, init_node), axis=1).argmin()"
   ]
  },
  {
   "cell_type": "markdown",
   "id": "653bace9",
   "metadata": {},
   "source": [
    "We create the mesh, and pass in the initial node"
   ]
  },
  {
   "cell_type": "code",
   "execution_count": null,
   "id": "eb5e37f1",
   "metadata": {},
   "outputs": [],
   "source": [
    "mesh = Mesh(verts=verts, connectivity=connectivity, init_node=verts[index, :])"
   ]
  },
  {
   "cell_type": "markdown",
   "id": "342f6245",
   "metadata": {},
   "source": [
    "We also set the number of generations to 15 and we set the initial direction to point in the positive $x$-direction which is the direction from the base towards the apex (this can also be found by visualizing the mesh in Paraview)\n"
   ]
  },
  {
   "cell_type": "code",
   "execution_count": null,
   "id": "eca3fbaf",
   "metadata": {},
   "outputs": [],
   "source": [
    "param = FractalTreeParameters(\n",
    "    filename=\"biv-line-lv\", N_it=15, initial_direction=np.array([1, 0, 0])\n",
    ")"
   ]
  },
  {
   "cell_type": "markdown",
   "id": "4880f30b",
   "metadata": {},
   "source": [
    "Next we create the Purkinje networks"
   ]
  },
  {
   "cell_type": "code",
   "execution_count": null,
   "id": "02bd72a2",
   "metadata": {},
   "outputs": [],
   "source": [
    "branches, nodes = generate_fractal_tree(mesh, param)"
   ]
  },
  {
   "attachments": {},
   "cell_type": "markdown",
   "id": "a32b11f3",
   "metadata": {},
   "source": [
    "```{figure} ../docs/figures/biv_gmsh.jpg\n",
    "---\n",
    "name: biv_gmsh\n",
    "---\n",
    "Idealized bi-ventricular geometry with generated Purkinje networks on the LV endocardium originating from the basal septum\n",
    "```"
   ]
  }
 ],
 "metadata": {
  "jupytext": {
   "cell_metadata_filter": "-all",
   "main_language": "python",
   "notebook_metadata_filter": "-all"
  },
  "language_info": {
   "name": "python"
  }
 },
 "nbformat": 4,
 "nbformat_minor": 5
}
